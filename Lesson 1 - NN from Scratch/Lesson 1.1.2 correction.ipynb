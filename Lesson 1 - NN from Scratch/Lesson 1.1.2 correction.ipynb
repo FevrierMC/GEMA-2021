{
  "nbformat": 4,
  "nbformat_minor": 0,
  "metadata": {
    "kernelspec": {
      "display_name": "Python 3",
      "language": "python",
      "name": "python3"
    },
    "language_info": {
      "codemirror_mode": {
        "name": "ipython",
        "version": 3
      },
      "file_extension": ".py",
      "mimetype": "text/x-python",
      "name": "python",
      "nbconvert_exporter": "python",
      "pygments_lexer": "ipython3",
      "version": "3.7.6"
    },
    "colab": {
      "name": "Lesson 1.1.2 Neural Nets from Scratch - Linear regression with Pytorch.ipynb",
      "provenance": []
    }
  },
  "cells": [
    {
      "cell_type": "markdown",
      "metadata": {
        "id": "iKTAHSgJonlH"
      },
      "source": [
        "# Why pytorch ?"
      ]
    },
    {
      "cell_type": "markdown",
      "metadata": {
        "id": "hKdKcp7donlN"
      },
      "source": [
        "Pytorch looks a lot like numpy. And it has a lot of advantages. Let's see:"
      ]
    },
    {
      "cell_type": "markdown",
      "metadata": {
        "id": "CJz-qY6uonlN"
      },
      "source": [
        "## Linear regression with pytorch"
      ]
    },
    {
      "cell_type": "code",
      "metadata": {
        "id": "TOt5yemZonlO"
      },
      "source": [
        "import torch\n",
        "import matplotlib.pyplot as plt"
      ],
      "execution_count": 1,
      "outputs": []
    },
    {
      "cell_type": "code",
      "metadata": {
        "id": "EDh0b0L_onlO",
        "outputId": "bd567e14-0c67-4c77-ec8a-c2f2de88d976",
        "colab": {
          "base_uri": "https://localhost:8080/",
          "height": 265
        }
      },
      "source": [
        "# see how close torch is to numpy ?\n",
        "x = torch.rand(300)\n",
        "y = 3 * x + 2 + (torch.randn(300) * 0.05)\n",
        "plt.scatter(x, y)\n",
        "plt.show()"
      ],
      "execution_count": 2,
      "outputs": [
        {
          "output_type": "display_data",
          "data": {
            "image/png": "[encoded data removed]",
            "text/plain": [
              "<Figure size 432x288 with 1 Axes>"
            ]
          },
          "metadata": {
            "tags": [],
            "needs_background": "light"
          }
        }
      ]
    },
    {
      "cell_type": "code",
      "metadata": {
        "id": "uzSKEpPNonlQ",
        "outputId": "2b81f24d-5371-4441-d37e-a333704d0abf",
        "colab": {
          "base_uri": "https://localhost:8080/"
        }
      },
      "source": [
        "# pytorch has a concept of \"Parameter\", you'll see how powerful it is in a moment\n",
        "# fill in the blank\n",
        "a = torch.nn.Parameter(torch.tensor(1.))\n",
        "b = torch.nn.Parameter(torch.tensor(1.))\n",
        "print(a, b)"
      ],
      "execution_count": 3,
      "outputs": [
        {
          "output_type": "stream",
          "text": [
            "Parameter containing:\n",
            "tensor(1., requires_grad=True) Parameter containing:\n",
            "tensor(1., requires_grad=True)\n"
          ],
          "name": "stdout"
        }
      ]
    },
    {
      "cell_type": "code",
      "metadata": {
        "id": "ESnQHQsKonlR",
        "outputId": "b72943cb-8d3c-478e-922a-8a609db631ad",
        "colab": {
          "base_uri": "https://localhost:8080/"
        }
      },
      "source": [
        "# whenever you calculate something using parameters (i.e, tensors with gradients),\n",
        "# you can do something.backward()\n",
        "print(a.grad)\n",
        "c = a * b\n",
        "c.backward()\n",
        "print(a.grad)\n",
        "a.grad.zero_()\n",
        "print(a.grad)"
      ],
      "execution_count": 4,
      "outputs": [
        {
          "output_type": "stream",
          "text": [
            "None\n",
            "tensor(1.)\n",
            "tensor(0.)\n"
          ],
          "name": "stdout"
        }
      ]
    },
    {
      "cell_type": "code",
      "metadata": {
        "id": "eMDRlUglonlR"
      },
      "source": [
        ""
      ],
      "execution_count": 4,
      "outputs": []
    },
    {
      "cell_type": "code",
      "metadata": {
        "scrolled": true,
        "id": "fC1jre6conlS",
        "outputId": "75822313-00a6-4a41-c290-bbbadb1f3fce",
        "colab": {
          "base_uri": "https://localhost:8080/",
          "height": 282
        }
      },
      "source": [
        "# You'll get an error message. It should be easy to debug ;-)\n",
        "y_pred = (a * x + b).detach().numpy()\n",
        "plt.scatter(x, y)\n",
        "plt.plot(x, y_pred)"
      ],
      "execution_count": 5,
      "outputs": [
        {
          "output_type": "execute_result",
          "data": {
            "text/plain": [
              "[<matplotlib.lines.Line2D at 0x7f191f418160>]"
            ]
          },
          "metadata": {
            "tags": []
          },
          "execution_count": 5
        },
        {
          "output_type": "display_data",
          "data": {
            "image/png": "[encoded data removed]",
            "text/plain": [
              "<Figure size 432x288 with 1 Axes>"
            ]
          },
          "metadata": {
            "tags": [],
            "needs_background": "light"
          }
        }
      ]
    },
    {
      "cell_type": "code",
      "metadata": {
        "id": "TWEJPMadonlS",
        "outputId": "72aa71bf-8698-4db6-d5db-b7a970cdbc22",
        "colab": {
          "base_uri": "https://localhost:8080/"
        }
      },
      "source": [
        "# Re-initialize your parameters (just to avoid running the cell above each time your repeat the experiment)\n",
        "a = torch.nn.Parameter(torch.tensor(-10.))\n",
        "b = torch.nn.Parameter(torch.tensor(500.))\n",
        "lr = 0.01 # choose a learning rate\n",
        "n_epochs = 10000 # pick a number of epochs\n",
        "\n",
        "for epoch in range(n_epochs):\n",
        "    # calculate the preds\n",
        "    y_pred = a * x + b\n",
        "\n",
        "    # calculate the loss\n",
        "    mse = torch.mean((y_pred - y) ** 2)\n",
        "    if epoch % 1000 == 0:\n",
        "        print(mse)\n",
        "    # backward pass:\n",
        "    mse.backward()  # use what you've learned above\n",
        "\n",
        "    # gradient descent:\n",
        "    with torch.no_grad():\n",
        "        a -= a.grad * lr  # use what you've learned above\n",
        "        b -= b.grad * lr\n",
        "        # here, if you don't put your gradients to zero, they will accumulate:\n",
        "        a.grad.zero_()\n",
        "        b.grad.zero_()"
      ],
      "execution_count": 6,
      "outputs": [
        {
          "output_type": "stream",
          "text": [
            "tensor(241756.5312, grad_fn=<MeanBackward0>)\n",
            "tensor(299.9640, grad_fn=<MeanBackward0>)\n",
            "tensor(24.9574, grad_fn=<MeanBackward0>)\n",
            "tensor(2.0787, grad_fn=<MeanBackward0>)\n",
            "tensor(0.1754, grad_fn=<MeanBackward0>)\n",
            "tensor(0.0170, grad_fn=<MeanBackward0>)\n",
            "tensor(0.0039, grad_fn=<MeanBackward0>)\n",
            "tensor(0.0028, grad_fn=<MeanBackward0>)\n",
            "tensor(0.0027, grad_fn=<MeanBackward0>)\n",
            "tensor(0.0027, grad_fn=<MeanBackward0>)\n"
          ],
          "name": "stdout"
        }
      ]
    },
    {
      "cell_type": "code",
      "metadata": {
        "id": "7NY30s_MAsJt",
        "outputId": "ac6e38f2-07d0-432b-d315-7182f9e648ca",
        "colab": {
          "base_uri": "https://localhost:8080/"
        }
      },
      "source": [
        "a, a.grad"
      ],
      "execution_count": 7,
      "outputs": [
        {
          "output_type": "execute_result",
          "data": {
            "text/plain": [
              "(Parameter containing:\n",
              " tensor(3.0016, requires_grad=True), tensor(0.))"
            ]
          },
          "metadata": {
            "tags": []
          },
          "execution_count": 7
        }
      ]
    },
    {
      "cell_type": "code",
      "metadata": {
        "id": "3OkeW9POonlT",
        "outputId": "63af494b-5089-42f4-84a2-58e31d8a9575",
        "colab": {
          "base_uri": "https://localhost:8080/",
          "height": 282
        }
      },
      "source": [
        "y_pred = (a * x + b).detach().numpy()\n",
        "plt.scatter(x, y)\n",
        "plt.plot(x, y_pred, color=\"red\")"
      ],
      "execution_count": 8,
      "outputs": [
        {
          "output_type": "execute_result",
          "data": {
            "text/plain": [
              "[<matplotlib.lines.Line2D at 0x7f191e69ddd8>]"
            ]
          },
          "metadata": {
            "tags": []
          },
          "execution_count": 8
        },
        {
          "output_type": "display_data",
          "data": {
            "image/png": "[encoded data removed]",
            "text/plain": [
              "<Figure size 432x288 with 1 Axes>"
            ]
          },
          "metadata": {
            "tags": [],
            "needs_background": "light"
          }
        }
      ]
    },
    {
      "cell_type": "code",
      "metadata": {
        "id": "AHkk3Ti8onlU",
        "outputId": "129941a9-b2d8-41eb-e7a4-11cf413a8564",
        "colab": {
          "base_uri": "https://localhost:8080/"
        }
      },
      "source": [
        "print(a, b)"
      ],
      "execution_count": 9,
      "outputs": [
        {
          "output_type": "stream",
          "text": [
            "Parameter containing:\n",
            "tensor(3.0016, requires_grad=True) Parameter containing:\n",
            "tensor(1.9988, requires_grad=True)\n"
          ],
          "name": "stdout"
        }
      ]
    },
    {
      "cell_type": "markdown",
      "metadata": {
        "id": "mCy3S18MonlU"
      },
      "source": [
        "### Learn more\n",
        "You'll find another approach that uses more advanced pytorch functionalities <a href=\"https://github.com/fastai/course-v3/blob/master/nbs/dl1/lesson2-sgd.ipynb\"> here</a>, but it requires having the fastai library installed\n"
      ]
    },
    {
      "cell_type": "code",
      "metadata": {
        "id": "aI9o4YbnonlU"
      },
      "source": [
        "# An interesting thing they do differently\n",
        "# is they store a and b in a single vector\n",
        "# And then perform matrix-vector multiplication"
      ],
      "execution_count": 10,
      "outputs": []
    },
    {
      "cell_type": "code",
      "metadata": {
        "id": "7AL9nrQnonlV"
      },
      "source": [
        "x = torch.ones(200, 2)\n",
        "a = torch.nn.Parameter(torch.tensor([1., 1.]))"
      ],
      "execution_count": 11,
      "outputs": []
    },
    {
      "cell_type": "code",
      "metadata": {
        "id": "c_5n_cSconlW",
        "outputId": "14215cc9-59a4-4d6e-d1f9-78c1eed4f683",
        "colab": {
          "base_uri": "https://localhost:8080/",
          "height": 167
        }
      },
      "source": [
        "a @ x"
      ],
      "execution_count": 12,
      "outputs": [
        {
          "output_type": "error",
          "ename": "RuntimeError",
          "evalue": "ignored",
          "traceback": [
            "\u001b[0;31m---------------------------------------------------------------------------\u001b[0m",
            "\u001b[0;31mRuntimeError\u001b[0m                              Traceback (most recent call last)",
            "\u001b[0;32m<ipython-input-12-62c303aa4a0a>\u001b[0m in \u001b[0;36m<module>\u001b[0;34m()\u001b[0m\n\u001b[0;32m----> 1\u001b[0;31m \u001b[0ma\u001b[0m \u001b[0;34m@\u001b[0m \u001b[0mx\u001b[0m\u001b[0;34m\u001b[0m\u001b[0;34m\u001b[0m\u001b[0m\n\u001b[0m",
            "\u001b[0;31mRuntimeError\u001b[0m: mat1 and mat2 shapes cannot be multiplied (1x2 and 200x2)"
          ]
        }
      ]
    },
    {
      "cell_type": "code",
      "metadata": {
        "id": "atPqGbMYonlW",
        "outputId": "16bd30a0-e4f8-445d-864f-b386bb4a1855",
        "colab": {
          "base_uri": "https://localhost:8080/"
        }
      },
      "source": [
        "x @ a"
      ],
      "execution_count": 13,
      "outputs": [
        {
          "output_type": "execute_result",
          "data": {
            "text/plain": [
              "tensor([2., 2., 2., 2., 2., 2., 2., 2., 2., 2., 2., 2., 2., 2., 2., 2., 2., 2.,\n",
              "        2., 2., 2., 2., 2., 2., 2., 2., 2., 2., 2., 2., 2., 2., 2., 2., 2., 2.,\n",
              "        2., 2., 2., 2., 2., 2., 2., 2., 2., 2., 2., 2., 2., 2., 2., 2., 2., 2.,\n",
              "        2., 2., 2., 2., 2., 2., 2., 2., 2., 2., 2., 2., 2., 2., 2., 2., 2., 2.,\n",
              "        2., 2., 2., 2., 2., 2., 2., 2., 2., 2., 2., 2., 2., 2., 2., 2., 2., 2.,\n",
              "        2., 2., 2., 2., 2., 2., 2., 2., 2., 2., 2., 2., 2., 2., 2., 2., 2., 2.,\n",
              "        2., 2., 2., 2., 2., 2., 2., 2., 2., 2., 2., 2., 2., 2., 2., 2., 2., 2.,\n",
              "        2., 2., 2., 2., 2., 2., 2., 2., 2., 2., 2., 2., 2., 2., 2., 2., 2., 2.,\n",
              "        2., 2., 2., 2., 2., 2., 2., 2., 2., 2., 2., 2., 2., 2., 2., 2., 2., 2.,\n",
              "        2., 2., 2., 2., 2., 2., 2., 2., 2., 2., 2., 2., 2., 2., 2., 2., 2., 2.,\n",
              "        2., 2., 2., 2., 2., 2., 2., 2., 2., 2., 2., 2., 2., 2., 2., 2., 2., 2.,\n",
              "        2., 2.], grad_fn=<MvBackward>)"
            ]
          },
          "metadata": {
            "tags": []
          },
          "execution_count": 13
        }
      ]
    },
    {
      "cell_type": "markdown",
      "metadata": {
        "id": "GV6ph9FkonlW"
      },
      "source": [
        "To get a visual understanding of matrix-vector (or matrix-matrix) multiplications, <a href=\"http://matrixmultiplication.xyz/\"> visit this link </a>"
      ]
    },
    {
      "cell_type": "markdown",
      "metadata": {
        "id": "Mlk3TAwPonlX"
      },
      "source": [
        "You can find a pytorch tutorial that dives deeply into the autograd and computation graph here <a href=\"https://towardsdatascience.com/understanding-pytorch-with-an-example-a-step-by-step-tutorial-81fc5f8c4e8e\"> here </a>"
      ]
    },
    {
      "cell_type": "code",
      "metadata": {
        "id": "sb5LtdqJonlX"
      },
      "source": [
        ""
      ],
      "execution_count": null,
      "outputs": []
    },
    {
      "cell_type": "code",
      "metadata": {
        "id": "T77BPGQ2Are0"
      },
      "source": [
        ""
      ],
      "execution_count": null,
      "outputs": []
    }
  ]
}