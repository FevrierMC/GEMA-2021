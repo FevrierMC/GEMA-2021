{
  "nbformat": 4,
  "nbformat_minor": 0,
  "metadata": {
    "kernelspec": {
      "display_name": "Python 3",
      "language": "python",
      "name": "python3"
    },
    "language_info": {
      "codemirror_mode": {
        "name": "ipython",
        "version": 3
      },
      "file_extension": ".py",
      "mimetype": "text/x-python",
      "name": "python",
      "nbconvert_exporter": "python",
      "pygments_lexer": "ipython3",
      "version": "3.7.6"
    },
    "colab": {
      "name": "Lesson 1.2 Neural Nets from Scratch - MNIST fully connected.ipynb",
      "provenance": []
    }
  },
  "cells": [
    {
      "cell_type": "markdown",
      "metadata": {
        "id": "SKlcDBR2rCRy"
      },
      "source": [
        "<h1 style='text-align: center; color: lightblue; font-size: 40px'> Neural Nets from scratch: </h1>\n",
        "<h2 style='text-align: center; color: lightblue; font-size: 30px'> MNIST with fully connected neural net </h2>"
      ]
    },
    {
      "cell_type": "code",
      "metadata": {
        "id": "8goQq8j_rCR4"
      },
      "source": [
        "import torch\n",
        "import numpy as np"
      ],
      "execution_count": 92,
      "outputs": []
    },
    {
      "cell_type": "markdown",
      "metadata": {
        "id": "FgdEoAPorCR5"
      },
      "source": [
        "# Computer vision with MNIST"
      ]
    },
    {
      "cell_type": "markdown",
      "metadata": {
        "id": "MrWhprfIrCR5"
      },
      "source": [
        "### Get the data"
      ]
    },
    {
      "cell_type": "markdown",
      "metadata": {
        "id": "FDk4dPJ1rCR6"
      },
      "source": [
        "We'll start with MNIST. It's a simple dataset with two advantages for building NN from scratch:\n",
        "* it has only one channel \n",
        "* we can model very quickly (the data is not huge) but still get very good results"
      ]
    },
    {
      "cell_type": "code",
      "metadata": {
        "scrolled": true,
        "id": "zGHOWQwVrCR7"
      },
      "source": [
        "from torchvision.datasets import MNIST\n",
        "trainset = MNIST('../../', download=True, train=True)\n",
        "testset = MNIST('../../', download=True, train=False)"
      ],
      "execution_count": 93,
      "outputs": []
    },
    {
      "cell_type": "code",
      "metadata": {
        "id": "5iOzappSrCR7",
        "outputId": "200663b5-3e3b-4089-e0f6-80e928ca88ce",
        "colab": {
          "base_uri": "https://localhost:8080/"
        }
      },
      "source": [
        "trainset"
      ],
      "execution_count": 94,
      "outputs": [
        {
          "output_type": "execute_result",
          "data": {
            "text/plain": [
              "Dataset MNIST\n",
              "    Number of datapoints: 60000\n",
              "    Root location: ../../\n",
              "    Split: Train"
            ]
          },
          "metadata": {
            "tags": []
          },
          "execution_count": 94
        }
      ]
    },
    {
      "cell_type": "code",
      "metadata": {
        "id": "hKoCA-dqrCR8"
      },
      "source": [
        "# find where the data is stored in trainset by doing trainset. +tab (or looking at the doc)\n",
        "# then use .shape (like in numpy or pandas) to get it's shape\n",
        "# do the same thing with the test set\n",
        "trainshape = trainset.data.shape\n",
        "testshape = testset.data.shape\n",
        "assert trainshape == torch.Size([60000, 28, 28])\n",
        "assert testshape[0] == 10000"
      ],
      "execution_count": 95,
      "outputs": []
    },
    {
      "cell_type": "code",
      "metadata": {
        "id": "08XAfjLTrCR9"
      },
      "source": [
        "import matplotlib.pyplot as plt"
      ],
      "execution_count": 96,
      "outputs": []
    },
    {
      "cell_type": "code",
      "metadata": {
        "id": "Lh95fLfLrCR9",
        "outputId": "b2222e72-2d74-4ca9-a44a-25e4796782f9",
        "colab": {
          "base_uri": "https://localhost:8080/",
          "height": 300
        }
      },
      "source": [
        "# amonst that data, get one picture\n",
        "# then use plt.imshow() to plot it \n",
        "print(trainset.targets[2])\n",
        "plt.imshow(trainset.data[2])\n",
        "trainset.targets"
      ],
      "execution_count": 97,
      "outputs": [
        {
          "output_type": "stream",
          "text": [
            "tensor(4)\n"
          ],
          "name": "stdout"
        },
        {
          "output_type": "execute_result",
          "data": {
            "text/plain": [
              "tensor([5, 0, 4,  ..., 5, 6, 8])"
            ]
          },
          "metadata": {
            "tags": []
          },
          "execution_count": 97
        },
        {
          "output_type": "display_data",
          "data": {
            "image/png": "[encoded data removed]",
            "text/plain": [
              "<Figure size 432x288 with 1 Axes>"
            ]
          },
          "metadata": {
            "tags": [],
            "needs_background": "light"
          }
        }
      ]
    },
    {
      "cell_type": "code",
      "metadata": {
        "id": "j-3QYORg2Ptp",
        "outputId": "e1f931ab-3956-40fb-cecc-b51ea32400c0",
        "colab": {
          "base_uri": "https://localhost:8080/"
        }
      },
      "source": [
        "trainset.data.shape, trainset.targets.shape"
      ],
      "execution_count": 98,
      "outputs": [
        {
          "output_type": "execute_result",
          "data": {
            "text/plain": [
              "(torch.Size([60000, 28, 28]), torch.Size([60000]))"
            ]
          },
          "metadata": {
            "tags": []
          },
          "execution_count": 98
        }
      ]
    },
    {
      "cell_type": "code",
      "metadata": {
        "id": "g6pc_joirCR-",
        "outputId": "a72b5cb2-fd88-4f2d-cc6d-302bb4176839",
        "colab": {
          "base_uri": "https://localhost:8080/"
        }
      },
      "source": [
        "# since we are doing a fully connected NN, we don't want 28*28 square images but a 784*1 vector\n",
        "train = trainset.data.reshape(60000, -1)\n",
        "train.shape"
      ],
      "execution_count": 99,
      "outputs": [
        {
          "output_type": "execute_result",
          "data": {
            "text/plain": [
              "torch.Size([60000, 784])"
            ]
          },
          "metadata": {
            "tags": []
          },
          "execution_count": 99
        }
      ]
    },
    {
      "cell_type": "code",
      "metadata": {
        "id": "gTyK5cggrCR_"
      },
      "source": [
        "# do the same thing for test set\n",
        "test = testset.data.reshape(10000, -1)\n",
        "assert test.shape == torch.Size([10000, 784])"
      ],
      "execution_count": 100,
      "outputs": []
    },
    {
      "cell_type": "code",
      "metadata": {
        "id": "FUl1s0J0rCSG"
      },
      "source": [
        "# again, use trainset. +tab to find the labels (numbers from 0 to 9)\n",
        "y_train = trainset.targets\n",
        "y_test = testset.targets"
      ],
      "execution_count": 101,
      "outputs": []
    },
    {
      "cell_type": "code",
      "metadata": {
        "id": "_QtaNpOOrCSG",
        "outputId": "97c81299-0fcc-4909-d068-c92222a0343c",
        "colab": {
          "base_uri": "https://localhost:8080/"
        }
      },
      "source": [
        "# FLoating point numbers work better with pytorch...\n",
        "train.dtype"
      ],
      "execution_count": 102,
      "outputs": [
        {
          "output_type": "execute_result",
          "data": {
            "text/plain": [
              "torch.uint8"
            ]
          },
          "metadata": {
            "tags": []
          },
          "execution_count": 102
        }
      ]
    },
    {
      "cell_type": "code",
      "metadata": {
        "id": "h9vYsKwCrCSI"
      },
      "source": [
        "# So we pass the data to float32 torch tensors\n",
        "train = train.to(torch.float32)\n",
        "test = test.to(torch.float32)"
      ],
      "execution_count": 103,
      "outputs": []
    },
    {
      "cell_type": "code",
      "metadata": {
        "id": "CK-RKx-VrCSI",
        "outputId": "88e21f9b-75a7-48ae-9889-955cb627e164",
        "colab": {
          "base_uri": "https://localhost:8080/"
        }
      },
      "source": [
        "# VERY IMPORTANT: The data isn't normalized\n",
        "m, std = train.mean(), train.std()\n",
        "m, std"
      ],
      "execution_count": 104,
      "outputs": [
        {
          "output_type": "execute_result",
          "data": {
            "text/plain": [
              "(tensor(33.3184), tensor(78.5675))"
            ]
          },
          "metadata": {
            "tags": []
          },
          "execution_count": 104
        }
      ]
    },
    {
      "cell_type": "markdown",
      "metadata": {
        "id": "HFmPKl0_rCSI"
      },
      "source": [
        "### < Normalization cell> - don't touch it (for now...)"
      ]
    },
    {
      "cell_type": "markdown",
      "metadata": {
        "id": "GzozpJCzrCSI"
      },
      "source": [
        "A Fancy hint for commenting / un-commenting a whole cell : <br /> \n",
        "* put your cursor in the cell\n",
        "* press CTRL+A to select all the cell\n",
        "* press CTRL+/ to comment all the selection\n",
        "\n",
        "Of course, you can also select only a part of the cell"
      ]
    },
    {
      "cell_type": "code",
      "metadata": {
        "id": "JOmOe8AUrCSI",
        "outputId": "4f3dba28-3ed7-4c60-8d0b-032eabc3ab57",
        "colab": {
          "base_uri": "https://localhost:8080/"
        }
      },
      "source": [
        "# So we normalize it\n",
        "train = (train - m) / std\n",
        "test = (test - m) / std\n",
        "print(train.mean(), train.std())  # 0 and 1, good"
      ],
      "execution_count": 105,
      "outputs": [
        {
          "output_type": "stream",
          "text": [
            "tensor(1.8892e-08) tensor(1.)\n"
          ],
          "name": "stdout"
        }
      ]
    },
    {
      "cell_type": "markdown",
      "metadata": {
        "heading_collapsed": true,
        "id": "TeFVWPngrCSJ"
      },
      "source": [
        "### </Normalization cell>"
      ]
    },
    {
      "cell_type": "markdown",
      "metadata": {
        "id": "Ch2MmSgtrCSJ"
      },
      "source": [
        "### define a fully connected neural net"
      ]
    },
    {
      "cell_type": "code",
      "metadata": {
        "id": "3nBp13odrCSK"
      },
      "source": [
        "def relu(x):\n",
        "    return x.clamp_min(0.)"
      ],
      "execution_count": 106,
      "outputs": []
    },
    {
      "cell_type": "code",
      "metadata": {
        "id": "WtwsmPtXrCSK"
      },
      "source": [
        "def model(x):\n",
        "    layer1 = torch.nn.Linear(784, 50)\n",
        "    x = relu(layer1(x))\n",
        "    layer2 = torch.nn.Linear(50, 10)\n",
        "    x = layer2(x)\n",
        "    return x"
      ],
      "execution_count": 107,
      "outputs": []
    },
    {
      "cell_type": "code",
      "metadata": {
        "id": "IXyUmgCdrCSK",
        "outputId": "8abbd2d3-529b-48c3-81eb-0db414be150b",
        "colab": {
          "base_uri": "https://localhost:8080/"
        }
      },
      "source": [
        "output = model(train)\n",
        "# ten predictions for every row, looks good\n",
        "output.shape"
      ],
      "execution_count": 108,
      "outputs": [
        {
          "output_type": "execute_result",
          "data": {
            "text/plain": [
              "torch.Size([60000, 10])"
            ]
          },
          "metadata": {
            "tags": []
          },
          "execution_count": 108
        }
      ]
    },
    {
      "cell_type": "markdown",
      "metadata": {
        "id": "bdsWaTmDrCSK"
      },
      "source": [
        "### define a loss function"
      ]
    },
    {
      "cell_type": "code",
      "metadata": {
        "id": "quDlTKq1rCSL"
      },
      "source": [
        "# In a single-label classification case, we use cross-entropy:\n",
        "# Don't worry if this is a lot of information for now,\n",
        "# more on loss functions in notebook 1.5 ;) \n",
        "loss_function = torch.nn.CrossEntropyLoss()"
      ],
      "execution_count": 109,
      "outputs": []
    },
    {
      "cell_type": "markdown",
      "metadata": {
        "id": "Vfc7U2SorCSL"
      },
      "source": [
        "### Forward pass"
      ]
    },
    {
      "cell_type": "code",
      "metadata": {
        "id": "zdbMYpDZrCSL",
        "outputId": "7e7329ab-d314-436c-ed5b-5587079c6042",
        "colab": {
          "base_uri": "https://localhost:8080/"
        }
      },
      "source": [
        "output = model(train)\n",
        "print('output shape:', output.shape)\n",
        "loss = loss_function(output, y_train)\n",
        "print('loss', loss)"
      ],
      "execution_count": 110,
      "outputs": [
        {
          "output_type": "stream",
          "text": [
            "output shape: torch.Size([60000, 10])\n",
            "loss tensor(2.3637, grad_fn=<NllLossBackward>)\n"
          ],
          "name": "stdout"
        }
      ]
    },
    {
      "cell_type": "markdown",
      "metadata": {
        "id": "bs-Vp-cVrCSL"
      },
      "source": [
        "### Backward pass"
      ]
    },
    {
      "cell_type": "code",
      "metadata": {
        "id": "XvksW0g66nzb",
        "outputId": "5b057ee4-e14b-4345-c821-5400ab6ec1e0",
        "colab": {
          "base_uri": "https://localhost:8080/"
        }
      },
      "source": [
        "a = 2\n",
        "\n",
        "def mon_model():\n",
        "  a =4 \n",
        "  return a\n",
        "mon_model()\n",
        "\n",
        "a"
      ],
      "execution_count": 111,
      "outputs": [
        {
          "output_type": "execute_result",
          "data": {
            "text/plain": [
              "2"
            ]
          },
          "metadata": {
            "tags": []
          },
          "execution_count": 111
        }
      ]
    },
    {
      "cell_type": "code",
      "metadata": {
        "id": "fhRVbmNVrCSL",
        "outputId": "71f573de-8863-45c0-881d-dc1e737b714e",
        "colab": {
          "base_uri": "https://localhost:8080/"
        }
      },
      "source": [
        "# complete the code\n",
        "# parameters we can change:\n",
        "EPOCHS = 50\n",
        "INPUT = train\n",
        "TARGETS = y_train\n",
        "LR = 0.2\n",
        "l1 = torch.nn.Linear(784, 50)\n",
        "l1.requires_grad_()\n",
        "l2 = torch.nn.Linear(50, 10)\n",
        "l2.requires_grad_()\n",
        "\n",
        "# Training loop\n",
        "for i in range(EPOCHS):\n",
        "    #output_l1 = l1(x)\n",
        "    #output_relu = relu(output_l1)\n",
        "    #output = l2(output_relu)\n",
        "    output = l2(relu(l1(INPUT)))\n",
        "    loss = loss_function(output, TARGETS)\n",
        "    if i % 10 == 0:\n",
        "        print(loss)\n",
        "    loss.backward()\n",
        "    with torch.no_grad():\n",
        "        for layer in [l1, l2]:\n",
        "            layer.weight -= layer.weight.grad * LR\n",
        "            layer.weight.grad.zero_()\n",
        "            layer.bias -= layer.bias.grad\n",
        "            layer.bias.grad.zero_()"
      ],
      "execution_count": 112,
      "outputs": [
        {
          "output_type": "stream",
          "text": [
            "tensor(2.3416, grad_fn=<NllLossBackward>)\n",
            "tensor(0.8262, grad_fn=<NllLossBackward>)\n",
            "tensor(0.5145, grad_fn=<NllLossBackward>)\n",
            "tensor(0.4944, grad_fn=<NllLossBackward>)\n",
            "tensor(0.3630, grad_fn=<NllLossBackward>)\n"
          ],
          "name": "stdout"
        }
      ]
    },
    {
      "cell_type": "code",
      "metadata": {
        "id": "sNXVz-vLrCSM"
      },
      "source": [
        "# even with this simple model, we see the loss decrease"
      ],
      "execution_count": 113,
      "outputs": []
    },
    {
      "cell_type": "markdown",
      "metadata": {
        "id": "F0xOu6m0rCSM"
      },
      "source": [
        "### Inference"
      ]
    },
    {
      "cell_type": "code",
      "metadata": {
        "id": "c59oFPGsrCSM"
      },
      "source": [
        "def accuracy(pred, targs):\n",
        "    return float((pred.argmax(dim=-1) == targs).sum()) / float(len(pred))"
      ],
      "execution_count": 114,
      "outputs": []
    },
    {
      "cell_type": "code",
      "metadata": {
        "id": "GZ3vSzrtrCSM"
      },
      "source": [
        "output = l2(relu(l1(test)))"
      ],
      "execution_count": 115,
      "outputs": []
    },
    {
      "cell_type": "code",
      "metadata": {
        "id": "yX19T6_orCSM",
        "outputId": "964d0bc3-ea8d-40dc-ff62-a59e53443f49",
        "colab": {
          "base_uri": "https://localhost:8080/"
        }
      },
      "source": [
        "accuracy(output, y_test)"
      ],
      "execution_count": 116,
      "outputs": [
        {
          "output_type": "execute_result",
          "data": {
            "text/plain": [
              "0.9103"
            ]
          },
          "metadata": {
            "tags": []
          },
          "execution_count": 116
        }
      ]
    },
    {
      "cell_type": "markdown",
      "metadata": {
        "id": "3yMWZppmrCSM"
      },
      "source": [
        "~ 10% accuracy. It didn't work... Why ? Well go at the top of the notebook and un-comment the normalization cell !"
      ]
    },
    {
      "cell_type": "markdown",
      "metadata": {
        "id": "SziHzRDCrCSM"
      },
      "source": [
        "..."
      ]
    },
    {
      "cell_type": "markdown",
      "metadata": {
        "id": "Iah7mq7wrCSM"
      },
      "source": [
        "90% accuracy (random would be 10%, as there are 10 classes), our model is definitely learning something."
      ]
    },
    {
      "cell_type": "markdown",
      "metadata": {
        "id": "aJRbIXG-rCSN"
      },
      "source": [
        "# Problems"
      ]
    },
    {
      "cell_type": "markdown",
      "metadata": {
        "id": "tuApanFgrCSN"
      },
      "source": [
        "### Number of parameters"
      ]
    },
    {
      "cell_type": "markdown",
      "metadata": {
        "id": "RKqEtykCrCSN"
      },
      "source": [
        "We've been using a fully connected neural net on 28*28 images. Our first layer had 50 neurons"
      ]
    },
    {
      "cell_type": "code",
      "metadata": {
        "id": "lZAmsC3-rCSN",
        "outputId": "157d8203-79bb-4fca-d8a9-03c68b07470b",
        "colab": {
          "base_uri": "https://localhost:8080/"
        }
      },
      "source": [
        "l1.weight.shape, l1.weight.shape[0] * l1.weight.shape[1]"
      ],
      "execution_count": 85,
      "outputs": [
        {
          "output_type": "execute_result",
          "data": {
            "text/plain": [
              "(torch.Size([50, 784]), 39200)"
            ]
          },
          "metadata": {
            "tags": []
          },
          "execution_count": 85
        }
      ]
    },
    {
      "cell_type": "markdown",
      "metadata": {
        "id": "4RPn4BNZrCSO"
      },
      "source": [
        "So we are using 39200 parameters for a 28*28 image ! \n",
        "And that's only for one layer ! \n",
        "\n",
        "Now let's take your regular 1024 * 1024 * 3 pixel image, and run than through a 50 neurons hidden layer :"
      ]
    },
    {
      "cell_type": "code",
      "metadata": {
        "id": "gJT9vNi0rCSO",
        "outputId": "0e1d5882-03b8-4c41-9dbd-4185faac7eca"
      },
      "source": [
        "# 157 millions parameters, and that's only your first layer...\n",
        "\"{:,}\".format(1024 * 1024 * 3 * 50)"
      ],
      "execution_count": null,
      "outputs": [
        {
          "output_type": "execute_result",
          "data": {
            "text/plain": [
              "'157,286,400'"
            ]
          },
          "metadata": {
            "tags": []
          },
          "execution_count": 33
        }
      ]
    },
    {
      "cell_type": "code",
      "metadata": {
        "id": "rwbCyPBgrCSO",
        "outputId": "7f3414c4-df5a-43a1-84dc-da8a87a1e824"
      },
      "source": [
        "# try the training loop above with 200620 instead of 50 to see what happens !\n",
        "157286400 / 784 "
      ],
      "execution_count": null,
      "outputs": [
        {
          "output_type": "execute_result",
          "data": {
            "text/plain": [
              "200620.4081632653"
            ]
          },
          "metadata": {
            "tags": []
          },
          "execution_count": 34
        }
      ]
    },
    {
      "cell_type": "markdown",
      "metadata": {
        "id": "s_ISbqxArCSP"
      },
      "source": [
        "### Interpretability ? "
      ]
    },
    {
      "cell_type": "code",
      "metadata": {
        "id": "UkHdcCNvrCSP",
        "outputId": "c25572f7-dfd0-45db-b9b6-4589d85bdb25",
        "colab": {
          "base_uri": "https://localhost:8080/",
          "height": 282
        }
      },
      "source": [
        "index = 17\n",
        "seven = test.data[index].reshape(28,28)\n",
        "plt.imshow(seven)\n",
        "print(l2(relu(l1(test.data[index]))).argmax(dim=-1) , y_test[index])"
      ],
      "execution_count": 86,
      "outputs": [
        {
          "output_type": "stream",
          "text": [
            "tensor(7) tensor(7)\n"
          ],
          "name": "stdout"
        },
        {
          "output_type": "display_data",
          "data": {
            "image/png": "[encoded data removed]",
            "text/plain": [
              "<Figure size 432x288 with 1 Axes>"
            ]
          },
          "metadata": {
            "tags": [],
            "needs_background": "light"
          }
        }
      ]
    },
    {
      "cell_type": "code",
      "metadata": {
        "id": "Z1RpEmcSrCSP",
        "outputId": "32ec48b7-bab9-4d33-8da5-e2c43b3e83ba",
        "colab": {
          "base_uri": "https://localhost:8080/",
          "height": 282
        }
      },
      "source": [
        "cut_seven = seven[:, 5:22]\n",
        "plt.imshow(seven[:, 5:22].numpy())\n",
        "cut_seven.shape"
      ],
      "execution_count": 87,
      "outputs": [
        {
          "output_type": "execute_result",
          "data": {
            "text/plain": [
              "torch.Size([28, 17])"
            ]
          },
          "metadata": {
            "tags": []
          },
          "execution_count": 87
        },
        {
          "output_type": "display_data",
          "data": {
            "image/png": "[encoded data removed]",
            "text/plain": [
              "<Figure size 432x288 with 1 Axes>"
            ]
          },
          "metadata": {
            "tags": [],
            "needs_background": "light"
          }
        }
      ]
    },
    {
      "cell_type": "code",
      "metadata": {
        "id": "GtIhzZ1CrCSP",
        "outputId": "d867f405-daae-47bb-ff70-7ea51b10672d",
        "colab": {
          "base_uri": "https://localhost:8080/",
          "height": 282
        }
      },
      "source": [
        "shifted_seven = torch.zeros(28,28)\n",
        "shifted_seven[:,:] = -0.4241\n",
        "shifted_seven[:,1:18] = cut_seven\n",
        "plt.imshow(shifted_seven.numpy())"
      ],
      "execution_count": 88,
      "outputs": [
        {
          "output_type": "execute_result",
          "data": {
            "text/plain": [
              "<matplotlib.image.AxesImage at 0x7feff5d42ef0>"
            ]
          },
          "metadata": {
            "tags": []
          },
          "execution_count": 88
        },
        {
          "output_type": "display_data",
          "data": {
            "image/png": "[encoded data removed]",
            "text/plain": [
              "<Figure size 432x288 with 1 Axes>"
            ]
          },
          "metadata": {
            "tags": [],
            "needs_background": "light"
          }
        }
      ]
    },
    {
      "cell_type": "code",
      "metadata": {
        "id": "zK5Qam-3rCSQ",
        "outputId": "1fc483fa-ed5c-42cc-cc9d-35d92f9573ca",
        "colab": {
          "base_uri": "https://localhost:8080/"
        }
      },
      "source": [
        "print(l2(relu(l1(shifted_seven.reshape(-1)))).argmax(dim=-1))"
      ],
      "execution_count": 90,
      "outputs": [
        {
          "output_type": "stream",
          "text": [
            "tensor(1)\n"
          ],
          "name": "stdout"
        }
      ]
    },
    {
      "cell_type": "code",
      "metadata": {
        "id": "Q3PKaWAFrCSQ",
        "outputId": "e69d92f6-507d-4e33-b688-6eb08b111f7b",
        "colab": {
          "base_uri": "https://localhost:8080/",
          "height": 282
        }
      },
      "source": [
        "index = 2\n",
        "one = test.data[index].reshape(28,28)\n",
        "plt.imshow(one)\n",
        "print(l2(relu(l1(test.data[index]))).argmax(dim=-1) , y_test[index])"
      ],
      "execution_count": 91,
      "outputs": [
        {
          "output_type": "stream",
          "text": [
            "tensor(1) tensor(1)\n"
          ],
          "name": "stdout"
        },
        {
          "output_type": "display_data",
          "data": {
            "image/png": "[encoded data removed]",
            "text/plain": [
              "<Figure size 432x288 with 1 Axes>"
            ]
          },
          "metadata": {
            "tags": [],
            "needs_background": "light"
          }
        }
      ]
    },
    {
      "cell_type": "markdown",
      "metadata": {
        "id": "E6qO0-jtrCSR"
      },
      "source": [
        "Visual Example\n",
        "@Vecanoi\n",
        "https://www.youtube.com/watch?v=GtglKSYA6RY&feature=youtu.be"
      ]
    },
    {
      "cell_type": "code",
      "metadata": {
        "id": "ACGf3DrnrCSR"
      },
      "source": [
        ""
      ],
      "execution_count": null,
      "outputs": []
    },
    {
      "cell_type": "code",
      "metadata": {
        "id": "n-IiVN7N7Kx0"
      },
      "source": [
        ""
      ],
      "execution_count": null,
      "outputs": []
    }
  ]
}